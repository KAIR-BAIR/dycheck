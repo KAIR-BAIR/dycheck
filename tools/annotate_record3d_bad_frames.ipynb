{
 "cells": [
  {
   "cell_type": "code",
   "execution_count": null,
   "id": "b7f8f45f-beb9-47aa-9658-900c5b6fad39",
   "metadata": {},
   "outputs": [],
   "source": [
    "%load_ext autoreload\n",
    "%autoreload 2\n",
    "%matplotlib inline"
   ]
  },
  {
   "cell_type": "code",
   "execution_count": null,
   "id": "38aab62c-072e-4256-8e03-5f71758f50ea",
   "metadata": {},
   "outputs": [],
   "source": [
    "import functools\n",
    "import os.path as osp\n",
    "from typing import List\n",
    "\n",
    "import cv2\n",
    "import gin\n",
    "import mediapy as media\n",
    "import numpy as np\n",
    "\n",
    "from dycheck import core\n",
    "from dycheck.datasets import Record3DProcessor\n",
    "from dycheck.utils import annotation, common, image, io\n",
    "\n",
    "gin.enter_interactive_mode()"
   ]
  },
  {
   "cell_type": "code",
   "execution_count": null,
   "id": "4324dd62-7217-4c94-a35c-a01189673962",
   "metadata": {},
   "outputs": [],
   "source": [
    "GIN_CONFIGS = [\"../configs/iphone/process_record3d_to_iphone.gin\"]\n",
    "GIN_BINDINGS = [\n",
    "    'DATA_ROOT=\"/home/hangg/datasets/iphone/record3d\"',\n",
    "    'SEQUENCE=\"paper-windmill\"',\n",
    "    # Dummy prompts since they will not be used.\n",
    "    \"FRGD_PROMPTS=['']\",\n",
    "    \"Record3DProcessor.suppress_bad_frames_validation=True\",\n",
    "]"
   ]
  },
  {
   "cell_type": "code",
   "execution_count": null,
   "id": "ee951997-27f4-487e-ae6a-85e9dd97b4ad",
   "metadata": {},
   "outputs": [],
   "source": [
    "with gin.unlock_config():\n",
    "    core.parse_config_files_and_bindings(\n",
    "        config_files=GIN_CONFIGS,\n",
    "        bindings=GIN_BINDINGS,\n",
    "        skip_unknown=True,\n",
    "        master=False,\n",
    "    )\n",
    "config_str = gin.config_str()\n",
    "print(f\"*** Configuration:\\n{config_str}\")"
   ]
  },
  {
   "cell_type": "code",
   "execution_count": null,
   "id": "93ef57f1-c9b6-42f1-8c58-6aca66881bd7",
   "metadata": {},
   "outputs": [],
   "source": [
    "processor = Record3DProcessor()\n",
    "processor._process_val_rgbas()"
   ]
  },
  {
   "cell_type": "code",
   "execution_count": null,
   "id": "4a5d722c-6ae3-4cc4-9c86-070fd70c6964",
   "metadata": {},
   "outputs": [],
   "source": [
    "val_bad_frames = []\n",
    "for rgbas in processor.val_rgbas:\n",
    "    # Downsample by 4 such that the image widget loads faster.\n",
    "    bad_frames = annotation.annotate_record3d_bad_frames(\n",
    "        common.parallel_map(\n",
    "            lambda img: image.rescale(img, 1 / 4),\n",
    "            list(rgbas[..., :3]),\n",
    "        )\n",
    "    )\n",
    "    val_bad_frames.append(bad_frames)"
   ]
  },
  {
   "cell_type": "code",
   "execution_count": null,
   "id": "45fc23b3-0ab3-43b6-b6fd-ec6462c139b8",
   "metadata": {},
   "outputs": [],
   "source": [
    "for i, bad_frames in enumerate(val_bad_frames):\n",
    "    io.dump(\n",
    "        osp.join(\n",
    "            processor.data_dir,\n",
    "            \"Test\",\n",
    "            str(i),\n",
    "            \"RGBD_Video\",\n",
    "            \"timesync_bad_frames.txt\",\n",
    "        ),\n",
    "        bad_frames,\n",
    "    )"
   ]
  }
 ],
 "metadata": {
  "kernelspec": {
   "display_name": "dycheck",
   "language": "python",
   "name": "dycheck"
  },
  "language_info": {
   "codemirror_mode": {
    "name": "ipython",
    "version": 3
   },
   "file_extension": ".py",
   "mimetype": "text/x-python",
   "name": "python",
   "nbconvert_exporter": "python",
   "pygments_lexer": "ipython3",
   "version": "3.8.13"
  }
 },
 "nbformat": 4,
 "nbformat_minor": 5
}
